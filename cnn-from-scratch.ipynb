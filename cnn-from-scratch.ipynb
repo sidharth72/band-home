{
 "cells": [
  {
   "cell_type": "code",
   "execution_count": 1,
   "id": "03d3321b",
   "metadata": {
    "execution": {
     "iopub.execute_input": "2023-06-13T16:48:02.737902Z",
     "iopub.status.busy": "2023-06-13T16:48:02.737389Z",
     "iopub.status.idle": "2023-06-13T16:48:19.739880Z",
     "shell.execute_reply": "2023-06-13T16:48:19.738901Z"
    },
    "papermill": {
     "duration": 17.01255,
     "end_time": "2023-06-13T16:48:19.742354",
     "exception": false,
     "start_time": "2023-06-13T16:48:02.729804",
     "status": "completed"
    },
    "tags": []
   },
   "outputs": [
    {
     "name": "stderr",
     "output_type": "stream",
     "text": [
      "/opt/conda/lib/python3.10/site-packages/tensorflow_io/python/ops/__init__.py:98: UserWarning: unable to load libtensorflow_io_plugins.so: unable to open file: libtensorflow_io_plugins.so, from paths: ['/opt/conda/lib/python3.10/site-packages/tensorflow_io/python/ops/libtensorflow_io_plugins.so']\n",
      "caused by: ['/opt/conda/lib/python3.10/site-packages/tensorflow_io/python/ops/libtensorflow_io_plugins.so: undefined symbol: _ZN3tsl6StatusC1EN10tensorflow5error4CodeESt17basic_string_viewIcSt11char_traitsIcEENS_14SourceLocationE']\n",
      "  warnings.warn(f\"unable to load libtensorflow_io_plugins.so: {e}\")\n",
      "/opt/conda/lib/python3.10/site-packages/tensorflow_io/python/ops/__init__.py:104: UserWarning: file system plugins are not loaded: unable to open file: libtensorflow_io.so, from paths: ['/opt/conda/lib/python3.10/site-packages/tensorflow_io/python/ops/libtensorflow_io.so']\n",
      "caused by: ['/opt/conda/lib/python3.10/site-packages/tensorflow_io/python/ops/libtensorflow_io.so: undefined symbol: _ZTVN10tensorflow13GcsFileSystemE']\n",
      "  warnings.warn(f\"file system plugins are not loaded: {e}\")\n"
     ]
    },
    {
     "name": "stdout",
     "output_type": "stream",
     "text": [
      "Downloading data from https://storage.googleapis.com/tensorflow/tf-keras-datasets/train-labels-idx1-ubyte.gz\n",
      "29515/29515 [==============================] - 0s 0us/step\n",
      "Downloading data from https://storage.googleapis.com/tensorflow/tf-keras-datasets/train-images-idx3-ubyte.gz\n",
      "26421880/26421880 [==============================] - 0s 0us/step\n",
      "Downloading data from https://storage.googleapis.com/tensorflow/tf-keras-datasets/t10k-labels-idx1-ubyte.gz\n",
      "5148/5148 [==============================] - 0s 0us/step\n",
      "Downloading data from https://storage.googleapis.com/tensorflow/tf-keras-datasets/t10k-images-idx3-ubyte.gz\n",
      "4422102/4422102 [==============================] - 0s 0us/step\n"
     ]
    }
   ],
   "source": [
    "import tensorflow.keras as keras\n",
    "import numpy as np\n",
    "\n",
    "# Load the Fashion MNIST dataset\n",
    "(train_images, train_labels), (test_images, test_labels) = keras.datasets.fashion_mnist.load_data()"
   ]
  },
  {
   "cell_type": "code",
   "execution_count": 2,
   "id": "1ee1cd68",
   "metadata": {
    "execution": {
     "iopub.execute_input": "2023-06-13T16:48:19.757213Z",
     "iopub.status.busy": "2023-06-13T16:48:19.755175Z",
     "iopub.status.idle": "2023-06-13T16:48:19.761233Z",
     "shell.execute_reply": "2023-06-13T16:48:19.760402Z"
    },
    "papermill": {
     "duration": 0.014745,
     "end_time": "2023-06-13T16:48:19.763118",
     "exception": false,
     "start_time": "2023-06-13T16:48:19.748373",
     "status": "completed"
    },
    "tags": []
   },
   "outputs": [],
   "source": [
    "# Change the orientation of the dataset inorder to work"
   ]
  },
  {
   "cell_type": "code",
   "execution_count": 3,
   "id": "c1b49ba0",
   "metadata": {
    "execution": {
     "iopub.execute_input": "2023-06-13T16:48:19.776198Z",
     "iopub.status.busy": "2023-06-13T16:48:19.775883Z",
     "iopub.status.idle": "2023-06-13T16:48:20.988521Z",
     "shell.execute_reply": "2023-06-13T16:48:20.987319Z"
    },
    "papermill": {
     "duration": 1.222217,
     "end_time": "2023-06-13T16:48:20.991115",
     "exception": false,
     "start_time": "2023-06-13T16:48:19.768898",
     "status": "completed"
    },
    "tags": []
   },
   "outputs": [],
   "source": [
    "import numpy as np\n",
    "from scipy.signal import correlate2d, convolve2d\n",
    "\n",
    "class Convolution:\n",
    "    \n",
    "    def __init__(self, input_shape, filter_size, num_filters):\n",
    "        input_height, input_width = input_shape\n",
    "        self.num_filters = num_filters\n",
    "        self.input_shape = input_shape\n",
    "        \n",
    "        # Size of outputs and filters or kernels or weigths\n",
    "        \n",
    "        self.filter_shape = (num_filters, filter_size, filter_size) # (3,3)\n",
    "        self.output_shape = (num_filters, input_height - filter_size + 1, input_width - filter_size + 1)\n",
    "        \n",
    "        self.filters = np.random.randn(*self.filter_shape)\n",
    "        self.biases = np.random.randn(*self.output_shape)\n",
    "        \n",
    "        \n",
    "    def cross_correlation2D(self, input_mat, filter_mat):\n",
    "        # Get the dimensions of the image and kernel\n",
    "        image_height, image_width = input_mat.shape\n",
    "        # (3, 3) shape\n",
    "        kernel_height, kernel_width = filter_mat.shape\n",
    "\n",
    "        # Calculate the output dimensions\n",
    "        output_height = image_height - kernel_height + 1\n",
    "        output_width = image_width - kernel_width + 1\n",
    "\n",
    "        # Create an empty array to store the cross-correlation result\n",
    "        result = np.zeros((output_height, output_width))\n",
    "\n",
    "        # Perform cross-correlation\n",
    "        for i in range(output_height):\n",
    "            for j in range(output_width):\n",
    "                patch = input_mat[i:i + kernel_height, j:j + kernel_width]\n",
    "                result[i, j] = np.sum(patch * filter_mat)\n",
    "        return result\n",
    "        \n",
    "        \n",
    "    def forward(self, input_data):\n",
    "        self.input_data = input_data\n",
    "        # Initialized the input value\n",
    "        output = np.zeros(self.output_shape)\n",
    "        for i in range(self.num_filters):\n",
    "            output[i] = correlate2d(self.input_data, self.filters[i], mode=\"valid\")\n",
    "        #Applying Relu Activtion function\n",
    "        output = np.maximum(output, 0)\n",
    "        \n",
    "        return output \n",
    "    \n",
    "    \n",
    "    def backward(self, dL_dout, lr):\n",
    "        # Create a random dL_dout array\n",
    "        dL_dinput = np.zeros_like(self.input_data)\n",
    "        dL_dfilters = np.zeros_like(self.filters)\n",
    "        \n",
    "        for i in range(self.num_filters):\n",
    "                # Calculating the gradient of the filters or weights\n",
    "                dL_dfilters[i] = correlate2d(self.input_data, dL_dout[i],mode=\"valid\")\n",
    "                \n",
    "                # Calculating the gradient of the inputs\n",
    "                dL_dinput += convolve2d(dL_dout[i], self.filters[i], mode=\"full\")\n",
    "                \n",
    "        self.filters -= lr * dL_dfilters\n",
    "        self.biases -= lr * dL_dout\n",
    "    \n",
    "        \n",
    "        return dL_dinput\n",
    "\n",
    "\n",
    "class MaxPool:\n",
    "    \n",
    "    def __init__(self, pool_size):\n",
    "        self.pool_size = pool_size\n",
    "        \n",
    "    def forward(self, input_data):\n",
    "        self.input_data = input_data\n",
    "        self.num_channels, self.input_height, self.input_width = input_data.shape\n",
    "        self.output_height = self.input_height // self.pool_size\n",
    "        self.output_width = self.input_width // self.pool_size\n",
    "        \n",
    "        self.output = np.zeros((self.num_channels, self.output_height, self.output_width))\n",
    "        \n",
    "\n",
    "        for c in range(self.num_channels):\n",
    "            for i in range(self.output_height):\n",
    "                for j in range(self.output_width):\n",
    "                    start_i = i * self.pool_size\n",
    "                    start_j = j * self.pool_size\n",
    "\n",
    "                    end_i = start_i + self.pool_size\n",
    "                    end_j = start_j + self.pool_size \n",
    "                    patch = input_data[c, start_i:end_i, start_j:end_j]\n",
    "\n",
    "                    self.output[c, i, j] = np.max(patch)\n",
    "                        \n",
    "        return self.output\n",
    "    \n",
    "    def backward(self, dL_dout, lr):\n",
    "        dL_dinput = np.zeros_like(self.input_data)\n",
    "        \n",
    "        for c in range(self.num_channels):\n",
    "            for i in range(self.output_height):\n",
    "                for j in range(self.output_width):\n",
    "                    start_i = i * self.pool_size\n",
    "                    start_j = j * self.pool_size\n",
    "\n",
    "                    end_i = start_i + self.pool_size\n",
    "                    end_j = start_j + self.pool_size \n",
    "                    patch = self.input_data[c, start_i:end_i, start_j:end_j]\n",
    "                    \n",
    "                    mask = patch == np.max(patch)\n",
    "                    \n",
    "                    dL_dinput[c,start_i:end_i, start_j:end_j] = dL_dout[c, i, j] * mask\n",
    "                    \n",
    "        return dL_dinput\n",
    "                        \n",
    "class Fully_Connected:\n",
    "    \n",
    "    def __init__(self, input_size, output_size):\n",
    "        self.input_size = input_size\n",
    "        self.output_size = output_size\n",
    "        #self.ouptut_neurons = output_neurons\n",
    "        self.weights = np.random.randn(output_size, self.input_size)\n",
    "        #print(self.weights)\n",
    "        self.biases = np.random.rand(output_size, 1)\n",
    "        \n",
    "    \n",
    "    def softmax(self, z):\n",
    "        # Shift the input values to avoid numerical instability\n",
    "        shifted_z = z - np.max(z)\n",
    "        # Compute the exponentiated values\n",
    "        exp_values = np.exp(shifted_z)\n",
    "\n",
    "        # Compute the sum of exponentiated values using log-sum-exp trick\n",
    "        sum_exp_values = np.sum(exp_values, axis=0)\n",
    "        log_sum_exp = np.log(sum_exp_values)\n",
    "\n",
    "        # Compute the softmax probabilities\n",
    "        probabilities = exp_values / sum_exp_values\n",
    "\n",
    "        return probabilities\n",
    "\n",
    "\n",
    "    def softmax_derivative(self, s):\n",
    "        return np.diagflat(s) - np.dot(s, s.T)\n",
    "        \n",
    "    def forward(self, input_data):\n",
    "        self.input_data = input_data\n",
    "        flattened_input = input_data.flatten().reshape(1, -1)\n",
    "        self.z = np.dot(self.weights, flattened_input.T) + self.biases\n",
    "        self.output = self.softmax(self.z)          \n",
    "        return self.output\n",
    "    \n",
    "    def backward(self, dL_dout, lr):\n",
    "        # Calculate the gradient of the loss with respect to the pre-activation (z)\n",
    "        dL_dy = np.dot(self.softmax_derivative(self.output), dL_dout)\n",
    "        # Calculate the gradient of the loss with respect to the weights (dw)\n",
    "        dL_dw = np.dot(dL_dy, self.input_data.flatten().reshape(1, -1))\n",
    "\n",
    "        # Calculate the gradient of the loss with respect to the biases (db)\n",
    "        dL_db = dL_dy\n",
    "\n",
    "        # Calculate the gradient of the loss with respect to the input data (dL_dinput)\n",
    "        dL_dinput = np.dot(self.weights.T, dL_dy)\n",
    "        dL_dinput = dL_dinput.reshape(self.input_data.shape)\n",
    "\n",
    "        # Update the weights and biases based on the learning rate and gradients\n",
    "        self.weights -= lr * dL_dw\n",
    "        self.biases -= lr * dL_db\n",
    "\n",
    "        # Return the gradient of the loss with respect to the input data\n",
    "        return dL_dinput\n",
    "\n",
    "    "
   ]
  },
  {
   "cell_type": "code",
   "execution_count": 4,
   "id": "d8de9f41",
   "metadata": {
    "execution": {
     "iopub.execute_input": "2023-06-13T16:48:21.004781Z",
     "iopub.status.busy": "2023-06-13T16:48:21.003851Z",
     "iopub.status.idle": "2023-06-13T16:48:21.013185Z",
     "shell.execute_reply": "2023-06-13T16:48:21.012041Z"
    },
    "papermill": {
     "duration": 0.018934,
     "end_time": "2023-06-13T16:48:21.015818",
     "exception": false,
     "start_time": "2023-06-13T16:48:20.996884",
     "status": "completed"
    },
    "tags": []
   },
   "outputs": [
    {
     "data": {
      "text/plain": [
       "(28, 28)"
      ]
     },
     "execution_count": 4,
     "metadata": {},
     "output_type": "execute_result"
    }
   ],
   "source": [
    "X_train = train_images[:50] / 255.0\n",
    "y_train = train_labels[:50]\n",
    "\n",
    "X_test = train_images[5:10] / 255.0\n",
    "y_test = train_labels[5:10]\n",
    "\n",
    "X_train[0].shape"
   ]
  },
  {
   "cell_type": "code",
   "execution_count": null,
   "id": "a476824e",
   "metadata": {
    "papermill": {
     "duration": 0.005698,
     "end_time": "2023-06-13T16:48:21.028139",
     "exception": false,
     "start_time": "2023-06-13T16:48:21.022441",
     "status": "completed"
    },
    "tags": []
   },
   "outputs": [],
   "source": []
  },
  {
   "cell_type": "code",
   "execution_count": 5,
   "id": "597553a0",
   "metadata": {
    "execution": {
     "iopub.execute_input": "2023-06-13T16:48:21.041344Z",
     "iopub.status.busy": "2023-06-13T16:48:21.040605Z",
     "iopub.status.idle": "2023-06-13T16:48:21.045885Z",
     "shell.execute_reply": "2023-06-13T16:48:21.044954Z"
    },
    "papermill": {
     "duration": 0.014393,
     "end_time": "2023-06-13T16:48:21.048195",
     "exception": false,
     "start_time": "2023-06-13T16:48:21.033802",
     "status": "completed"
    },
    "tags": []
   },
   "outputs": [],
   "source": [
    "from keras.utils import to_categorical\n",
    "\n",
    "y_train = to_categorical(y_train)\n",
    "y_test = to_categorical(y_test)"
   ]
  },
  {
   "cell_type": "code",
   "execution_count": 6,
   "id": "06fcccd0",
   "metadata": {
    "execution": {
     "iopub.execute_input": "2023-06-13T16:48:21.062637Z",
     "iopub.status.busy": "2023-06-13T16:48:21.061814Z",
     "iopub.status.idle": "2023-06-13T16:48:21.068376Z",
     "shell.execute_reply": "2023-06-13T16:48:21.067351Z"
    },
    "papermill": {
     "duration": 0.015688,
     "end_time": "2023-06-13T16:48:21.070612",
     "exception": false,
     "start_time": "2023-06-13T16:48:21.054924",
     "status": "completed"
    },
    "tags": []
   },
   "outputs": [
    {
     "data": {
      "text/plain": [
       "1014"
      ]
     },
     "execution_count": 6,
     "metadata": {},
     "output_type": "execute_result"
    }
   ],
   "source": [
    "13 * 13 * 6"
   ]
  },
  {
   "cell_type": "code",
   "execution_count": 7,
   "id": "b8c431b3",
   "metadata": {
    "execution": {
     "iopub.execute_input": "2023-06-13T16:48:21.084337Z",
     "iopub.status.busy": "2023-06-13T16:48:21.084050Z",
     "iopub.status.idle": "2023-06-13T16:48:21.098932Z",
     "shell.execute_reply": "2023-06-13T16:48:21.098072Z"
    },
    "papermill": {
     "duration": 0.024274,
     "end_time": "2023-06-13T16:48:21.100995",
     "exception": false,
     "start_time": "2023-06-13T16:48:21.076721",
     "status": "completed"
    },
    "tags": []
   },
   "outputs": [],
   "source": [
    "conv = Convolution(X_train[0].shape, 4, 6)\n",
    "pool = MaxPool(2)\n",
    "full = Fully_Connected(864,10)\n",
    "\n",
    "def cross_entropy_loss(predictions, targets):\n",
    "    \n",
    "    num_samples = 10\n",
    "\n",
    "    # Avoid numerical instability by adding a small epsilon value\n",
    "    epsilon = 1e-7\n",
    "    predictions = np.clip(predictions, epsilon, 1 - epsilon)\n",
    "\n",
    "    # Calculate the categorical cross-entropy loss\n",
    "    loss = -np.sum(targets * np.log(predictions)) / num_samples\n",
    "\n",
    "    return loss\n",
    "\n",
    "def cross_entropy_loss_gradient(actual_labels, predicted_probs):\n",
    "    num_samples = actual_labels.shape[0]\n",
    "\n",
    "    # Calculate the gradient of the cross-entropy loss function\n",
    "    gradient = -actual_labels / (predicted_probs + 1e-7) / num_samples\n",
    "\n",
    "    return gradient\n",
    "\n",
    "\n",
    "def forward(input_data, label):\n",
    "    layer_out = input_data\n",
    "    loss = 0\n",
    "    for cnn_forward in cnn:\n",
    "        layer_out = cnn_forward.forward(layer_out)\n",
    "    #acc = 1 if any(np.argmax(layer_out)) == label else 0\n",
    "    loss = categorical_cross_entropy_loss(layer_out, label)\n",
    "    \n",
    "    return layer_out\n",
    "\n",
    "def train_network(X, y, conv, pool, full, lr=0.01, epochs=100):\n",
    "    for epoch in range(epochs):\n",
    "        total_loss = 0.0\n",
    "        correct_predictions = 0\n",
    "\n",
    "        for i in range(len(X)):\n",
    "            # Forward pass\n",
    "            conv_out = conv.forward(X[i])\n",
    "            pool_out = pool.forward(conv_out)\n",
    "            full_out = full.forward(pool_out)\n",
    "\n",
    "            # Calculate loss and accuracy\n",
    "            loss = cross_entropy_loss(full_out.flatten(), y[i])\n",
    "            total_loss += loss\n",
    "            \n",
    "            # Backward pass\n",
    "            gradient = cross_entropy_loss_gradient(y[i], full_out.flatten()).reshape((-1, 1))\n",
    "            full_back = full.backward(gradient, lr)\n",
    "            pool_back = pool.backward(full_back, lr)\n",
    "            conv_back = conv.backward(pool_back, lr)\n",
    "\n",
    "            # Print the values for debugging\n",
    "            #print(f\"Epoch: {epoch+1}, Sample: {i+1}\")\n",
    "            #print(\"Convolution output shape:\", conv_out.shape)\n",
    "            #print(\"Pooling output shape:\", pool_out.shape)\n",
    "            #print(\"Fully Connected output shape:\", full_out.shape)\n",
    "            #print(\"Gradient shape:\", gradient.shape)\n",
    "            #print(\"Fully Connected backward shape:\", full_back.shape)\n",
    "            #print(\"Pooling backward shape:\", pool_back.shape)\n",
    "            #print(\"Convolution backward shape:\", conv_back.shape)\n",
    "            #print()\n",
    "\n",
    "        # Print epoch statistics\n",
    "        average_loss = total_loss / len(X)\n",
    "        accuracy = 0\n",
    "        print(f\"Epoch {epoch + 1}/{epochs} - Loss: {average_loss:.4f}\")\n",
    "        \n",
    "\n",
    "def predict(input_sample, conv, pool, full):\n",
    "    # Forward pass through convolutional and pooling layers\n",
    "    conv_out = conv.forward(input_sample)\n",
    "    pool_out = pool.forward(conv_out)\n",
    "\n",
    "    # Flatten the output feature maps\n",
    "    flattened_output = pool_out.flatten()\n",
    "\n",
    "    # Forward pass through fully connected layer\n",
    "    predictions = full.forward(flattened_output)\n",
    "\n",
    "    return predictions"
   ]
  },
  {
   "cell_type": "code",
   "execution_count": 8,
   "id": "296d9abf",
   "metadata": {
    "execution": {
     "iopub.execute_input": "2023-06-13T16:48:21.113569Z",
     "iopub.status.busy": "2023-06-13T16:48:21.112867Z",
     "iopub.status.idle": "2023-06-13T16:50:18.072562Z",
     "shell.execute_reply": "2023-06-13T16:50:18.071257Z"
    },
    "papermill": {
     "duration": 116.968508,
     "end_time": "2023-06-13T16:50:18.075040",
     "exception": false,
     "start_time": "2023-06-13T16:48:21.106532",
     "status": "completed"
    },
    "tags": []
   },
   "outputs": [
    {
     "name": "stdout",
     "output_type": "stream",
     "text": [
      "Epoch 1/100 - Loss: 1.4868\n",
      "Epoch 2/100 - Loss: 1.4751\n",
      "Epoch 3/100 - Loss: 1.4595\n",
      "Epoch 4/100 - Loss: 1.4293\n",
      "Epoch 5/100 - Loss: 1.4064\n",
      "Epoch 6/100 - Loss: 1.3719\n",
      "Epoch 7/100 - Loss: 1.3592\n",
      "Epoch 8/100 - Loss: 1.3478\n",
      "Epoch 9/100 - Loss: 1.3377\n",
      "Epoch 10/100 - Loss: 1.3320\n",
      "Epoch 11/100 - Loss: 1.3263\n",
      "Epoch 12/100 - Loss: 1.3208\n",
      "Epoch 13/100 - Loss: 1.3135\n",
      "Epoch 14/100 - Loss: 1.2884\n",
      "Epoch 15/100 - Loss: 1.2668\n",
      "Epoch 16/100 - Loss: 1.2541\n",
      "Epoch 17/100 - Loss: 1.2356\n",
      "Epoch 18/100 - Loss: 1.2284\n",
      "Epoch 19/100 - Loss: 1.2036\n",
      "Epoch 20/100 - Loss: 1.2237\n",
      "Epoch 21/100 - Loss: 1.2057\n",
      "Epoch 22/100 - Loss: 1.1929\n",
      "Epoch 23/100 - Loss: 1.1683\n",
      "Epoch 24/100 - Loss: 1.1470\n",
      "Epoch 25/100 - Loss: 1.1258\n",
      "Epoch 26/100 - Loss: 1.1164\n",
      "Epoch 27/100 - Loss: 1.1123\n",
      "Epoch 28/100 - Loss: 1.1091\n",
      "Epoch 29/100 - Loss: 1.1062\n",
      "Epoch 30/100 - Loss: 1.1022\n",
      "Epoch 31/100 - Loss: 1.1009\n",
      "Epoch 32/100 - Loss: 1.0995\n",
      "Epoch 33/100 - Loss: 1.0985\n",
      "Epoch 34/100 - Loss: 1.0980\n",
      "Epoch 35/100 - Loss: 1.0976\n",
      "Epoch 36/100 - Loss: 1.0974\n",
      "Epoch 37/100 - Loss: 1.0973\n",
      "Epoch 38/100 - Loss: 1.0972\n",
      "Epoch 39/100 - Loss: 1.0971\n",
      "Epoch 40/100 - Loss: 1.0970\n",
      "Epoch 41/100 - Loss: 1.0969\n",
      "Epoch 42/100 - Loss: 1.0969\n",
      "Epoch 43/100 - Loss: 1.0968\n",
      "Epoch 44/100 - Loss: 1.0968\n",
      "Epoch 45/100 - Loss: 1.0968\n",
      "Epoch 46/100 - Loss: 1.0967\n",
      "Epoch 47/100 - Loss: 1.0967\n",
      "Epoch 48/100 - Loss: 1.0967\n",
      "Epoch 49/100 - Loss: 1.0967\n",
      "Epoch 50/100 - Loss: 1.0966\n",
      "Epoch 51/100 - Loss: 1.0966\n",
      "Epoch 52/100 - Loss: 1.0966\n",
      "Epoch 53/100 - Loss: 1.0966\n",
      "Epoch 54/100 - Loss: 1.0966\n",
      "Epoch 55/100 - Loss: 1.0965\n",
      "Epoch 56/100 - Loss: 1.0965\n",
      "Epoch 57/100 - Loss: 1.0965\n",
      "Epoch 58/100 - Loss: 1.0965\n",
      "Epoch 59/100 - Loss: 1.0965\n",
      "Epoch 60/100 - Loss: 1.0965\n",
      "Epoch 61/100 - Loss: 1.0965\n",
      "Epoch 62/100 - Loss: 1.0965\n",
      "Epoch 63/100 - Loss: 1.0964\n",
      "Epoch 64/100 - Loss: 1.0964\n",
      "Epoch 65/100 - Loss: 1.0964\n",
      "Epoch 66/100 - Loss: 1.0964\n",
      "Epoch 67/100 - Loss: 1.0964\n",
      "Epoch 68/100 - Loss: 1.0964\n",
      "Epoch 69/100 - Loss: 1.0964\n",
      "Epoch 70/100 - Loss: 1.0964\n",
      "Epoch 71/100 - Loss: 1.0964\n",
      "Epoch 72/100 - Loss: 1.0964\n",
      "Epoch 73/100 - Loss: 1.0964\n",
      "Epoch 74/100 - Loss: 1.0964\n",
      "Epoch 75/100 - Loss: 1.0964\n",
      "Epoch 76/100 - Loss: 1.0964\n",
      "Epoch 77/100 - Loss: 1.0964\n",
      "Epoch 78/100 - Loss: 1.0964\n",
      "Epoch 79/100 - Loss: 1.0964\n",
      "Epoch 80/100 - Loss: 1.0964\n",
      "Epoch 81/100 - Loss: 1.0964\n",
      "Epoch 82/100 - Loss: 1.0963\n",
      "Epoch 83/100 - Loss: 1.0963\n",
      "Epoch 84/100 - Loss: 1.0963\n",
      "Epoch 85/100 - Loss: 1.0963\n",
      "Epoch 86/100 - Loss: 1.0963\n",
      "Epoch 87/100 - Loss: 1.0963\n",
      "Epoch 88/100 - Loss: 1.0963\n",
      "Epoch 89/100 - Loss: 1.0963\n",
      "Epoch 90/100 - Loss: 1.0963\n",
      "Epoch 91/100 - Loss: 1.0963\n",
      "Epoch 92/100 - Loss: 1.0963\n",
      "Epoch 93/100 - Loss: 1.0963\n",
      "Epoch 94/100 - Loss: 1.0963\n",
      "Epoch 95/100 - Loss: 1.0963\n",
      "Epoch 96/100 - Loss: 1.0963\n",
      "Epoch 97/100 - Loss: 1.0963\n",
      "Epoch 98/100 - Loss: 1.0963\n",
      "Epoch 99/100 - Loss: 1.0963\n",
      "Epoch 100/100 - Loss: 1.0963\n"
     ]
    }
   ],
   "source": [
    "train_network(X_train, y_train, conv, pool, full)"
   ]
  },
  {
   "cell_type": "code",
   "execution_count": 9,
   "id": "3d8c2fe1",
   "metadata": {
    "execution": {
     "iopub.execute_input": "2023-06-13T16:50:18.102217Z",
     "iopub.status.busy": "2023-06-13T16:50:18.101923Z",
     "iopub.status.idle": "2023-06-13T16:50:18.463332Z",
     "shell.execute_reply": "2023-06-13T16:50:18.462308Z"
    },
    "papermill": {
     "duration": 0.377845,
     "end_time": "2023-06-13T16:50:18.465784",
     "exception": false,
     "start_time": "2023-06-13T16:50:18.087939",
     "status": "completed"
    },
    "tags": []
   },
   "outputs": [],
   "source": [
    "predictions = []\n",
    "for data in X_train:\n",
    "    pred = predict(data, conv, pool, full)\n",
    "    one_hot_pred = np.zeros_like(pred)\n",
    "    one_hot_pred[np.argmax(pred)] = 1\n",
    "    predictions.append(one_hot_pred)\n",
    "\n",
    "predictions = np.array(predictions)\n"
   ]
  },
  {
   "cell_type": "code",
   "execution_count": null,
   "id": "4b6d028f",
   "metadata": {
    "execution": {
     "iopub.execute_input": "2023-06-13T16:47:18.190880Z",
     "iopub.status.busy": "2023-06-13T16:47:18.190505Z",
     "iopub.status.idle": "2023-06-13T16:47:18.198054Z",
     "shell.execute_reply": "2023-06-13T16:47:18.196602Z",
     "shell.execute_reply.started": "2023-06-13T16:47:18.190850Z"
    },
    "papermill": {
     "duration": 0.013325,
     "end_time": "2023-06-13T16:50:18.492532",
     "exception": false,
     "start_time": "2023-06-13T16:50:18.479207",
     "status": "completed"
    },
    "tags": []
   },
   "outputs": [],
   "source": []
  },
  {
   "cell_type": "code",
   "execution_count": 10,
   "id": "81660cca",
   "metadata": {
    "execution": {
     "iopub.execute_input": "2023-06-13T16:50:18.520529Z",
     "iopub.status.busy": "2023-06-13T16:50:18.520148Z",
     "iopub.status.idle": "2023-06-13T16:50:18.554327Z",
     "shell.execute_reply": "2023-06-13T16:50:18.553450Z"
    },
    "papermill": {
     "duration": 0.050572,
     "end_time": "2023-06-13T16:50:18.556410",
     "exception": false,
     "start_time": "2023-06-13T16:50:18.505838",
     "status": "completed"
    },
    "tags": []
   },
   "outputs": [],
   "source": [
    "conv_out = conv.forward(X_train[0])\n",
    "pool_out = pool.forward(conv_out)\n",
    "full_out = full.forward(pool_out)\n",
    "gradient = cross_entropy_loss_gradient(y_train[0], full_out.flatten()).reshape((-1, 1))\n",
    "full_back = full.backward(gradient, 0.01)\n",
    "pool_back = pool.backward(full_back, 0.01)\n",
    "conv_back = conv.backward(pool_back, 0.01)"
   ]
  },
  {
   "cell_type": "code",
   "execution_count": 11,
   "id": "4ef5e7a7",
   "metadata": {
    "execution": {
     "iopub.execute_input": "2023-06-13T16:50:18.583913Z",
     "iopub.status.busy": "2023-06-13T16:50:18.583613Z",
     "iopub.status.idle": "2023-06-13T16:50:18.589246Z",
     "shell.execute_reply": "2023-06-13T16:50:18.588340Z"
    },
    "papermill": {
     "duration": 0.021292,
     "end_time": "2023-06-13T16:50:18.591165",
     "exception": false,
     "start_time": "2023-06-13T16:50:18.569873",
     "status": "completed"
    },
    "tags": []
   },
   "outputs": [
    {
     "data": {
      "text/plain": [
       "1690"
      ]
     },
     "execution_count": 11,
     "metadata": {},
     "output_type": "execute_result"
    }
   ],
   "source": [
    "13 * 13 * 10"
   ]
  },
  {
   "cell_type": "code",
   "execution_count": null,
   "id": "96625ba7",
   "metadata": {
    "papermill": {
     "duration": 0.012809,
     "end_time": "2023-06-13T16:50:18.616641",
     "exception": false,
     "start_time": "2023-06-13T16:50:18.603832",
     "status": "completed"
    },
    "tags": []
   },
   "outputs": [],
   "source": []
  },
  {
   "cell_type": "code",
   "execution_count": null,
   "id": "73f8bd11",
   "metadata": {
    "papermill": {
     "duration": 0.01263,
     "end_time": "2023-06-13T16:50:18.642311",
     "exception": false,
     "start_time": "2023-06-13T16:50:18.629681",
     "status": "completed"
    },
    "tags": []
   },
   "outputs": [],
   "source": []
  }
 ],
 "metadata": {
  "kernelspec": {
   "display_name": "Python 3",
   "language": "python",
   "name": "python3"
  },
  "language_info": {
   "codemirror_mode": {
    "name": "ipython",
    "version": 3
   },
   "file_extension": ".py",
   "mimetype": "text/x-python",
   "name": "python",
   "nbconvert_exporter": "python",
   "pygments_lexer": "ipython3",
   "version": "3.10.10"
  },
  "papermill": {
   "default_parameters": {},
   "duration": 153.739499,
   "end_time": "2023-06-13T16:50:22.020733",
   "environment_variables": {},
   "exception": null,
   "input_path": "__notebook__.ipynb",
   "output_path": "__notebook__.ipynb",
   "parameters": {},
   "start_time": "2023-06-13T16:47:48.281234",
   "version": "2.4.0"
  }
 },
 "nbformat": 4,
 "nbformat_minor": 5
}
